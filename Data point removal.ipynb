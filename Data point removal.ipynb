{
 "cells": [
  {
   "cell_type": "code",
   "execution_count": 1,
   "id": "d4977755",
   "metadata": {},
   "outputs": [],
   "source": [
    "from scipy.optimize import minimize\n",
    "import numpy as np\n",
    "import multiprocessing as mp\n",
    "import shelve\n",
    "\n",
    "from helper import get_predator_prey_data, mse_trunc, \\\n",
    "    remove_data_points_rand, remove_data_points_det, int_cost_lotka_volterra\n",
    "from workers import vary_truncation_worker"
   ]
  },
  {
   "cell_type": "code",
   "execution_count": 2,
   "id": "1382c4c2",
   "metadata": {},
   "outputs": [],
   "source": [
    "def get_n_removed_points(d):\n",
    "    return len(np.argwhere(d.flatten() == -1))\n",
    "\n",
    "def trunc_cost(*args):\n",
    "    return int_cost_lotka_volterra(*args, cost=mse_trunc)\n",
    "\n",
    "def generate_truncated_datasets(P, n, max_points, col):\n",
    "    Ps = [P]\n",
    "    for i in range(max_points//n):\n",
    "        P = remove_data_points_det(P.copy(), n, col=col)\n",
    "        Ps.append(P)\n",
    "    return Ps"
   ]
  },
  {
   "cell_type": "code",
   "execution_count": 3,
   "id": "ac4d0b2b",
   "metadata": {},
   "outputs": [],
   "source": [
    "def vary_truncation(trunc_datasets, rv, n_sim=100, T_start=200, T_steps=2000):\n",
    "    manager = mp.Manager()\n",
    "    results = manager.list()\n",
    "\n",
    "    work_queue = mp.Queue()\n",
    "    for i in range(len(trunc_datasets)):\n",
    "        results.append(manager.list())\n",
    "        for j in range(n_sim):\n",
    "            work_queue.put((i, j))\n",
    "\n",
    "    processes = []\n",
    "\n",
    "    for i in range(mp.cpu_count()):\n",
    "        p = mp.Process(target=vary_truncation_worker, args=(\n",
    "            work_queue, results, T_start, T_steps, t, rv, trunc_datasets\n",
    "        ))\n",
    "        p.daemon = True\n",
    "        p.start()\n",
    "        processes.append(p)\n",
    "\n",
    "    for p in processes:\n",
    "        p.join()\n",
    "\n",
    "    return [list(t) for t in results], trunc_datasets"
   ]
  },
  {
   "cell_type": "code",
   "execution_count": 20,
   "id": "e6acb001",
   "metadata": {},
   "outputs": [
    {
     "name": "stdout",
     "output_type": "stream",
     "text": [
      "[0, 10, 20, 30, 40, 50, 60, 70, 80, 90, 100]\n",
      "[0, 10, 20, 30, 40, 50, 60, 70, 80, 90, 100]\n"
     ]
    },
    {
     "name": "stderr",
     "output_type": "stream",
     "text": [
      "/home/soud/.local/lib/python3.8/site-packages/scipy/integrate/odepack.py:247: ODEintWarning: Excess work done on this call (perhaps wrong Dfun type). Run with full_output = 1 to get quantitative information.\n",
      "  warnings.warn(warning_msg, ODEintWarning)\n",
      "/home/soud/.local/lib/python3.8/site-packages/scipy/integrate/odepack.py:247: ODEintWarning: Excess work done on this call (perhaps wrong Dfun type). Run with full_output = 1 to get quantitative information.\n",
      "  warnings.warn(warning_msg, ODEintWarning)\n",
      "/home/soud/.local/lib/python3.8/site-packages/scipy/integrate/odepack.py:247: ODEintWarning: Excess work done on this call (perhaps wrong Dfun type). Run with full_output = 1 to get quantitative information.\n",
      "  warnings.warn(warning_msg, ODEintWarning)\n",
      "/home/soud/.local/lib/python3.8/site-packages/scipy/integrate/odepack.py:247: ODEintWarning: Excess work done on this call (perhaps wrong Dfun type). Run with full_output = 1 to get quantitative information.\n",
      "  warnings.warn(warning_msg, ODEintWarning)\n",
      "/home/soud/.local/lib/python3.8/site-packages/numpy/linalg/linalg.py:2560: RuntimeWarning: overflow encountered in multiply\n",
      "  s = (x.conj() * x).real\n",
      "/home/soud/.local/lib/python3.8/site-packages/numpy/linalg/linalg.py:2560: RuntimeWarning: overflow encountered in multiply\n",
      "  s = (x.conj() * x).real\n",
      "/home/soud/.local/lib/python3.8/site-packages/numpy/linalg/linalg.py:2560: RuntimeWarning: overflow encountered in multiply\n",
      "  s = (x.conj() * x).real\n"
     ]
    },
    {
     "name": "stdout",
     "output_type": "stream",
     "text": [
      "CPU times: user 83.2 ms, sys: 88.5 ms, total: 172 ms\n",
      "Wall time: 2min 4s\n"
     ]
    }
   ],
   "source": [
    "%%time\n",
    "if True:\n",
    "    with shelve.open(\"Arrays/data_removal\") as shelf:\n",
    "        n = 10           # number of points to remove every time\n",
    "        max_points = 100 # max number of points to remove. if not divisible by n, will floor down\n",
    "        n_sim = 3\n",
    "\n",
    "        t, P = get_predator_prey_data()\n",
    "\n",
    "        np.random.seed(0o1331)\n",
    "        \n",
    "        # truncate x timeseries\n",
    "        trunc_datasets_x = generate_truncated_datasets(P, n, max_points, 0)\n",
    "        print([get_n_removed_points(P) for P in trunc_datasets_x])\n",
    "        rv = [1, 1, 1, 1]\n",
    "\n",
    "        costs_x, datasets_x = vary_truncation(trunc_datasets_x, rv, n_sim=n_sim)\n",
    "        shelf[\"data_removal_costs_x\"] = costs_x\n",
    "        shelf[\"datasets_x\"] = datasets_x\n",
    "\n",
    "        # truncate y timeseries\n",
    "        trunc_datasets_y = generate_truncated_datasets(P, n, max_points, 1)\n",
    "        print([get_n_removed_points(P) for P in trunc_datasets_y])\n",
    "\n",
    "        costs_y, datasets_y = vary_truncation(trunc_datasets_y, rv, n_sim=n_sim)\n",
    "        shelf[\"data_removal_costs_y\"] = costs_y\n",
    "        shelf[\"datasets_y\"] = datasets_y\n",
    "\n",
    "        shelf.close()"
   ]
  },
  {
   "cell_type": "code",
   "execution_count": 21,
   "id": "7cdb5b1a",
   "metadata": {},
   "outputs": [],
   "source": [
    "#Open data\n",
    "shelf = shelve.open(\"Arrays/data_removal\")\n",
    "costs_x = shelf[\"data_removal_costs_x\"] \n",
    "datasets_x = shelf[\"datasets_x\"]\n",
    "\n",
    "costs_y = shelf[\"data_removal_costs_y\"] \n",
    "datasets_y = shelf[\"datasets_y\"] \n",
    "shelf.close() "
   ]
  },
  {
   "cell_type": "code",
   "execution_count": 22,
   "id": "89f0679a",
   "metadata": {},
   "outputs": [
    {
     "data": {
      "text/plain": [
       "[[5.898598431679339, 5.898598431679339, 5.898598431679339],\n",
       " [7.216425553069774, 7.215876000986826, 7.215876000986826],\n",
       " [7.097358679269526, 7.098555064846292, 7.097421191041987],\n",
       " [6.220510088434671, 6.220510088434671, 6.221037503593258],\n",
       " [6.268721392945568, 6.268721392945568, 6.26902818721251],\n",
       " [5.9011074591111665, 5.901346156247254, 5.901346156247254],\n",
       " [5.325361449519944, 5.325108340920113, 5.327505362373598],\n",
       " [5.345663510947823, 5.343350469195431, 5.343479799092125],\n",
       " [4.543657326309521, 4.545228993109932, 4.543479784479679],\n",
       " [4.451041077922979, 4.452860596938904, 4.453160071366083],\n",
       " [4.379609670470187, 4.367881350007014, 4.379805019222678]]"
      ]
     },
     "execution_count": 22,
     "metadata": {},
     "output_type": "execute_result"
    }
   ],
   "source": [
    "costs_x"
   ]
  },
  {
   "cell_type": "code",
   "execution_count": 23,
   "id": "ec9fb6ac",
   "metadata": {},
   "outputs": [
    {
     "data": {
      "text/plain": [
       "[[5.898598431679339, 5.898598431679339, 5.898598431679339],\n",
       " [1.4216841918627218e+18, 2.2005083363548424e+18, 2.2005083363548424e+18],\n",
       " [2.2005083363548424e+18, 2.647187548298168e+18, nan],\n",
       " [nan, nan, 1.737265154030728e+18],\n",
       " [1.0120913251374524e+18, 1.0120913251374524e+18, 1.0120913251374524e+18],\n",
       " [1.3045884265960855e+18, 1.0823463968807363e+18, 1.0823463968807363e+18],\n",
       " [1.0823463968807363e+18, 5.4985984552364314e+17, 1.0880482901591923e+18],\n",
       " [1.0880482901591923e+18, 1.0880482901591923e+18, 1.262336453257498e+18],\n",
       " [1.3515396717857428e+18, 1.3515396717857428e+18, 1.3515396717857428e+18],\n",
       " [1.3665490466172298e+18, 1.4721440130755348e+18, 1.4721440130755348e+18],\n",
       " [1.4721440130755348e+18, 9.881951643985581e+17, 9.525956152107196e+17]]"
      ]
     },
     "execution_count": 23,
     "metadata": {},
     "output_type": "execute_result"
    }
   ],
   "source": [
    "costs_y"
   ]
  }
 ],
 "metadata": {
  "kernelspec": {
   "display_name": "Python 3 (ipykernel)",
   "language": "python",
   "name": "python3"
  },
  "language_info": {
   "codemirror_mode": {
    "name": "ipython",
    "version": 3
   },
   "file_extension": ".py",
   "mimetype": "text/x-python",
   "name": "python",
   "nbconvert_exporter": "python",
   "pygments_lexer": "ipython3",
   "version": "3.8.10"
  }
 },
 "nbformat": 4,
 "nbformat_minor": 5
}

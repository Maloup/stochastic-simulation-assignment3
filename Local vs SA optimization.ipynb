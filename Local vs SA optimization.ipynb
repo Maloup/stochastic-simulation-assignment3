{
 "cells": [
  {
   "cell_type": "code",
   "execution_count": 1,
   "id": "caa6f226",
   "metadata": {},
   "outputs": [],
   "source": [
    "from scipy.optimize import minimize\n",
    "import numpy as np\n",
    "import pandas as pd\n",
    "import multiprocessing as mp\n",
    "import shelve\n",
    "from workers import vary_rv_worker\n",
    "\n",
    "from helper import mse, lotka_volterra, int_cost_lotka_volterra, get_predator_prey_data\n",
    "\n",
    "t, y = get_predator_prey_data()"
   ]
  },
  {
   "cell_type": "code",
   "execution_count": 2,
   "id": "de2ab3c4",
   "metadata": {},
   "outputs": [],
   "source": [
    "np.random.seed(823923)\n",
    "xs = np.random.uniform(low=0.5, high=10, size=(10, 4))\n",
    "\n",
    "if False:\n",
    "    shelf = shelve.open(\"Arrays/hc_costs\")\n",
    "    hc_costs = []\n",
    "    hc_states = []\n",
    "    \n",
    "    for x0 in xs:\n",
    "        res = minimize(int_cost_lotka_volterra, x0, method=\"nelder-mead\", args=(y, t),\n",
    "                       options={\"xatol\": 1e-8})\n",
    "        x_opt = res.x\n",
    "        hc_states.append(x_opt)\n",
    "        cost = int_cost_lotka_volterra(x_opt, y, t)\n",
    "        hc_costs.append(cost)\n",
    "    \n",
    "    shelf[\"hc_costs\"] = hc_costs\n",
    "    shelf[\"hc_states\"] = hc_states\n",
    "    shelf.close()"
   ]
  },
  {
   "cell_type": "code",
   "execution_count": 3,
   "id": "d7b3ef4e",
   "metadata": {},
   "outputs": [],
   "source": [
    "shelf = shelve.open(\"Arrays/hc_costs\")\n",
    "hc_costs = shelf[\"hc_costs\"]\n",
    "hc_states = shelf[\"hc_states\"] \n",
    "shelf.close() "
   ]
  },
  {
   "cell_type": "code",
   "execution_count": 4,
   "id": "35a0fdbd",
   "metadata": {},
   "outputs": [
    {
     "data": {
      "text/plain": [
       "array([[0.66593614, 2.94213991, 8.129154  , 4.88824876],\n",
       "       [3.13320535, 0.61170786, 1.20556467, 8.54715741],\n",
       "       [1.59035578, 3.964897  , 8.93986609, 2.72514184],\n",
       "       [4.73006778, 6.44811731, 5.9776969 , 7.29995916],\n",
       "       [1.72004538, 8.47855451, 1.16241656, 0.58402861],\n",
       "       [5.14251217, 2.59650137, 3.03574317, 7.63356504],\n",
       "       [6.07600054, 4.30131415, 4.60656356, 3.67890247],\n",
       "       [3.87088546, 7.40314946, 9.84267204, 5.05488566],\n",
       "       [5.49825296, 0.65119381, 7.9734132 , 9.63343394],\n",
       "       [7.26991767, 9.8089839 , 8.61680355, 3.66975829]])"
      ]
     },
     "execution_count": 4,
     "metadata": {},
     "output_type": "execute_result"
    }
   ],
   "source": [
    "xs"
   ]
  },
  {
   "cell_type": "code",
   "execution_count": 6,
   "id": "fa8bebdf",
   "metadata": {},
   "outputs": [
    {
     "data": {
      "text/plain": [
       "[8.679337898561412,\n",
       " 8.184897527115643,\n",
       " 6.442602246343074,\n",
       " 7.960944319561949,\n",
       " 9.602132578994118,\n",
       " 8.489120116297675,\n",
       " 9.425717896170163,\n",
       " 10.76325460170491,\n",
       " 8.503469726735885,\n",
       " 8.87407892509556]"
      ]
     },
     "execution_count": 6,
     "metadata": {},
     "output_type": "execute_result"
    }
   ],
   "source": [
    "hc_costs"
   ]
  },
  {
   "cell_type": "code",
   "execution_count": 7,
   "id": "10aec6fe",
   "metadata": {},
   "outputs": [],
   "source": [
    "def vary_rv(rvs, n_sim=50, T_start=200, T_steps=2000):\n",
    "    manager = mp.Manager()\n",
    "    costs = manager.list()\n",
    "    states = manager.list()\n",
    "\n",
    "    work_queue = mp.Queue()\n",
    "    for i, rv in enumerate(rvs):\n",
    "        costs.append(manager.list())\n",
    "        states.append(manager.list())\n",
    "        for _ in range(n_sim):\n",
    "            work_queue.put((i, rv))\n",
    "\n",
    "    processes = []\n",
    "\n",
    "    for i in range(mp.cpu_count()):\n",
    "        p = mp.Process(target=vary_rv_worker, args=(\n",
    "            work_queue, costs, states, T_start, T_steps, t, y\n",
    "        ))\n",
    "        p.daemon = True\n",
    "        p.start()\n",
    "        processes.append(p)\n",
    "\n",
    "    for p in processes:\n",
    "        p.join()\n",
    "\n",
    "    return [list(t) for t in costs], [list(t) for t in states]"
   ]
  },
  {
   "cell_type": "code",
   "execution_count": 8,
   "id": "77bfc3a6",
   "metadata": {},
   "outputs": [
    {
     "name": "stdout",
     "output_type": "stream",
     "text": [
      "CPU times: user 4 µs, sys: 0 ns, total: 4 µs\n",
      "Wall time: 9.06 µs\n"
     ]
    }
   ],
   "source": [
    "%%time\n",
    "\n",
    "if False:\n",
    "    shelf = shelve.open(\"Arrays/sa_costs\")\n",
    "    np.random.seed(0o37663)\n",
    "    sa_costs, sa_states = vary_rv(xs, n_sim=50, T_start=200, T_steps=2000)\n",
    "    shelf[\"sa_costs\"] = sa_costs\n",
    "    shelf[\"sa_states\"] = sa_states\n",
    "    shelf.close()"
   ]
  },
  {
   "cell_type": "code",
   "execution_count": 26,
   "id": "b70086a9",
   "metadata": {},
   "outputs": [],
   "source": [
    "shelf = shelve.open(\"Arrays/sa_costs\")\n",
    "sa_costs = np.array(shelf[\"sa_costs\"])\n",
    "sa_states = np.array(shelf[\"sa_states\"])\n",
    "shelf.close() "
   ]
  },
  {
   "cell_type": "code",
   "execution_count": 10,
   "id": "4af1c1c2",
   "metadata": {},
   "outputs": [
    {
     "name": "stdout",
     "output_type": "stream",
     "text": [
      "[2.93546257 0.3559166  2.57610642 2.91138327 5.90656039 1.39562762\n",
      " 1.47808847 1.77411622 2.60896755 1.18758241]\n",
      "[0.03009545 0.02709538 0.02991884 0.05263636 0.06410285 0.02417707\n",
      " 0.03065406 0.02995156 0.02824016 0.02677068]\n",
      "[8.24489092 6.11662711 8.24494411 8.60605556 8.24501082 8.27674535\n",
      " 8.42574474 8.43909619 8.58254819 8.75618348]\n",
      "[8.679337898561412, 8.184897527115643, 6.442602246343074, 7.960944319561949, 9.602132578994118, 8.489120116297675, 9.425717896170163, 10.76325460170491, 8.503469726735885, 8.87407892509556]\n"
     ]
    }
   ],
   "source": [
    "sa_costs\n",
    "print(np.mean(sa_costs, axis=1))\n",
    "print(np.min(sa_costs, axis=1))\n",
    "print(np.max(sa_costs, axis=1))\n",
    "print(hc_costs)"
   ]
  },
  {
   "cell_type": "code",
   "execution_count": 30,
   "id": "41e4ff7d",
   "metadata": {},
   "outputs": [
    {
     "ename": "IndexError",
     "evalue": "index 273 is out of bounds for axis 0 with size 125",
     "output_type": "error",
     "traceback": [
      "\u001b[0;31m---------------------------------------------------------------------------\u001b[0m",
      "\u001b[0;31mIndexError\u001b[0m                                Traceback (most recent call last)",
      "\u001b[0;32m/tmp/ipykernel_12031/1794116926.py\u001b[0m in \u001b[0;36m<module>\u001b[0;34m\u001b[0m\n\u001b[0;32m----> 1\u001b[0;31m \u001b[0mbest_sa\u001b[0m \u001b[0;34m=\u001b[0m \u001b[0msa_costs\u001b[0m\u001b[0;34m.\u001b[0m\u001b[0mreshape\u001b[0m\u001b[0;34m(\u001b[0m\u001b[0;34m-\u001b[0m\u001b[0;36m1\u001b[0m\u001b[0;34m,\u001b[0m \u001b[0msa_states\u001b[0m\u001b[0;34m.\u001b[0m\u001b[0mshape\u001b[0m\u001b[0;34m[\u001b[0m\u001b[0;34m-\u001b[0m\u001b[0;36m1\u001b[0m\u001b[0;34m]\u001b[0m\u001b[0;34m)\u001b[0m\u001b[0;34m[\u001b[0m\u001b[0mnp\u001b[0m\u001b[0;34m.\u001b[0m\u001b[0margmin\u001b[0m\u001b[0;34m(\u001b[0m\u001b[0msa_costs\u001b[0m\u001b[0;34m.\u001b[0m\u001b[0mflatten\u001b[0m\u001b[0;34m(\u001b[0m\u001b[0;34m)\u001b[0m\u001b[0;34m)\u001b[0m\u001b[0;34m]\u001b[0m\u001b[0;34m\u001b[0m\u001b[0;34m\u001b[0m\u001b[0m\n\u001b[0m\u001b[1;32m      2\u001b[0m \u001b[0mworst_sa\u001b[0m \u001b[0;34m=\u001b[0m \u001b[0msa_costs\u001b[0m\u001b[0;34m.\u001b[0m\u001b[0mreshape\u001b[0m\u001b[0;34m(\u001b[0m\u001b[0;34m-\u001b[0m\u001b[0;36m1\u001b[0m\u001b[0;34m,\u001b[0m \u001b[0msa_states\u001b[0m\u001b[0;34m.\u001b[0m\u001b[0mshape\u001b[0m\u001b[0;34m[\u001b[0m\u001b[0;34m-\u001b[0m\u001b[0;36m1\u001b[0m\u001b[0;34m]\u001b[0m\u001b[0;34m)\u001b[0m\u001b[0;34m[\u001b[0m\u001b[0mnp\u001b[0m\u001b[0;34m.\u001b[0m\u001b[0margmax\u001b[0m\u001b[0;34m(\u001b[0m\u001b[0msa_costs\u001b[0m\u001b[0;34m.\u001b[0m\u001b[0mflatten\u001b[0m\u001b[0;34m(\u001b[0m\u001b[0;34m)\u001b[0m\u001b[0;34m)\u001b[0m\u001b[0;34m]\u001b[0m\u001b[0;34m\u001b[0m\u001b[0;34m\u001b[0m\u001b[0m\n\u001b[1;32m      3\u001b[0m \u001b[0mbest_hc\u001b[0m \u001b[0;34m=\u001b[0m \u001b[0mhc_states\u001b[0m\u001b[0;34m[\u001b[0m\u001b[0mnp\u001b[0m\u001b[0;34m.\u001b[0m\u001b[0margmin\u001b[0m\u001b[0;34m(\u001b[0m\u001b[0mhc_costs\u001b[0m\u001b[0;34m)\u001b[0m\u001b[0;34m]\u001b[0m\u001b[0;34m\u001b[0m\u001b[0;34m\u001b[0m\u001b[0m\n\u001b[1;32m      4\u001b[0m \u001b[0mworst_hc\u001b[0m \u001b[0;34m=\u001b[0m \u001b[0mhc_states\u001b[0m\u001b[0;34m[\u001b[0m\u001b[0mnp\u001b[0m\u001b[0;34m.\u001b[0m\u001b[0margmax\u001b[0m\u001b[0;34m(\u001b[0m\u001b[0mhc_costs\u001b[0m\u001b[0;34m)\u001b[0m\u001b[0;34m]\u001b[0m\u001b[0;34m\u001b[0m\u001b[0;34m\u001b[0m\u001b[0m\n",
      "\u001b[0;31mIndexError\u001b[0m: index 273 is out of bounds for axis 0 with size 125"
     ]
    }
   ],
   "source": [
    "best_sa = sa_costs.reshape(-1, sa_states.shape[-1])[np.argmin(sa_costs.flatten())]\n",
    "worst_sa = sa_costs.reshape(-1, sa_states.shape[-1])[np.argmax(sa_costs.flatten())]\n",
    "best_hc = hc_states[np.argmin(hc_costs)]\n",
    "worst_hc = hc_states[np.argmax(hc_costs)]"
   ]
  },
  {
   "cell_type": "code",
   "execution_count": 22,
   "id": "e5e590c9",
   "metadata": {},
   "outputs": [
    {
     "data": {
      "text/plain": [
       "(0.386823138159279, 1.0265728092606916)"
      ]
     },
     "execution_count": 22,
     "metadata": {},
     "output_type": "execute_result"
    }
   ],
   "source": [
    "best_sa, worst_sa"
   ]
  }
 ],
 "metadata": {
  "kernelspec": {
   "display_name": "Python 3 (ipykernel)",
   "language": "python",
   "name": "python3"
  },
  "language_info": {
   "codemirror_mode": {
    "name": "ipython",
    "version": 3
   },
   "file_extension": ".py",
   "mimetype": "text/x-python",
   "name": "python",
   "nbconvert_exporter": "python",
   "pygments_lexer": "ipython3",
   "version": "3.8.10"
  }
 },
 "nbformat": 4,
 "nbformat_minor": 5
}

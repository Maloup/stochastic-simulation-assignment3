{
 "cells": [
  {
   "cell_type": "code",
   "execution_count": 48,
   "id": "caa6f226",
   "metadata": {},
   "outputs": [],
   "source": [
    "from scipy.optimize import minimize\n",
    "import matplotlib as mpl\n",
    "import numpy as np\n",
    "import pandas as pd\n",
    "import multiprocessing as mp\n",
    "import shelve\n",
    "from workers import vary_rv_worker\n",
    "from matplotlib import pyplot as plt\n",
    "import seaborn as sns\n",
    "import pandas as pd\n",
    "from scipy import stats\n",
    "\n",
    "from helper import mse, lotka_volterra, int_cost_lotka_volterra, get_predator_prey_data\n",
    "\n",
    "t, y = get_predator_prey_data()"
   ]
  },
  {
   "cell_type": "code",
   "execution_count": 49,
   "id": "2f9753bd",
   "metadata": {},
   "outputs": [],
   "source": [
    "def sp_confidence_interval(samples, p=0.95):\n",
    "    \"\"\" Calculates the confidence interval (with p=95% unless noted otherwise) \n",
    "    Returns:\n",
    "         Confidence radius (int) based on samples.     \n",
    "    \"\"\"\n",
    "    a = stats.t.interval(p, df=len(samples)-1, loc=np.mean(samples), scale=stats.sem(samples))\n",
    "    return a[1] - a[0]"
   ]
  },
  {
   "cell_type": "code",
   "execution_count": 17,
   "id": "2162dcb1",
   "metadata": {},
   "outputs": [],
   "source": [
    "mpl.rcParams[\"figure.dpi\"] = 180\n",
    "mpl.rcParams[\"legend.fontsize\"] = 12\n",
    "mpl.rcParams[\"font.size\"] = 12\n",
    "\n",
    "plt.rc(\"text\", usetex=True)\n",
    "plt.rc(\"text.latex\", preamble=r\"\"\"\n",
    "     \\usepackage{palatino}\n",
    "     \\usepackage{newpxmath}\"\"\")\n",
    "    \n",
    "plt.rc(\"font\", family=\"serif\")"
   ]
  },
  {
   "cell_type": "code",
   "execution_count": 55,
   "id": "de2ab3c4",
   "metadata": {},
   "outputs": [
    {
     "name": "stderr",
     "output_type": "stream",
     "text": [
      "/home/soud/.local/lib/python3.8/site-packages/scipy/integrate/odepack.py:247: ODEintWarning: Excess work done on this call (perhaps wrong Dfun type). Run with full_output = 1 to get quantitative information.\n",
      "  warnings.warn(warning_msg, ODEintWarning)\n"
     ]
    }
   ],
   "source": [
    "xs = np.array([\n",
    "    [0.66593614, 2.94213991, 8.129154  , 4.88824876], #10\n",
    "    [1.59035578, 3.964897  , 8.93986609, 2.72514184], #9\n",
    "    [2.91245287, 2.70612094, 2.01560385, 1.47317489], # good guess (MSE ~ 3.4)\n",
    "])\n",
    "\n",
    "if True:\n",
    "    shelf = shelve.open(\"Arrays/hc_costs\")\n",
    "    hc_costs = []\n",
    "    hc_states = []\n",
    "    \n",
    "    for x0 in xs:\n",
    "        res = minimize(int_cost_lotka_volterra, x0, method=\"nelder-mead\", args=(y, t),\n",
    "                       options={\"xatol\": 1e-8})\n",
    "        x_opt = res.x\n",
    "        hc_states.append(x_opt)\n",
    "        cost = int_cost_lotka_volterra(x_opt, y, t)\n",
    "        hc_costs.append(cost)\n",
    "    \n",
    "    shelf[\"hc_costs\"] = hc_costs\n",
    "    shelf[\"hc_states\"] = hc_states\n",
    "    shelf.close()"
   ]
  },
  {
   "cell_type": "code",
   "execution_count": 56,
   "id": "d7b3ef4e",
   "metadata": {},
   "outputs": [],
   "source": [
    "shelf = shelve.open(\"Arrays/hc_costs\")\n",
    "hc_costs = shelf[\"hc_costs\"]\n",
    "hc_states = shelf[\"hc_states\"] \n",
    "shelf.close() "
   ]
  },
  {
   "cell_type": "code",
   "execution_count": 57,
   "id": "35a0fdbd",
   "metadata": {},
   "outputs": [
    {
     "data": {
      "text/plain": [
       "array([[0.66593614, 2.94213991, 8.129154  , 4.88824876],\n",
       "       [1.59035578, 3.964897  , 8.93986609, 2.72514184],\n",
       "       [2.91245287, 2.70612094, 2.01560385, 1.47317489]])"
      ]
     },
     "execution_count": 57,
     "metadata": {},
     "output_type": "execute_result"
    }
   ],
   "source": [
    "xs"
   ]
  },
  {
   "cell_type": "code",
   "execution_count": 58,
   "id": "a57e1f29",
   "metadata": {
    "scrolled": true
   },
   "outputs": [
    {
     "name": "stdout",
     "output_type": "stream",
     "text": [
      "\\vec{s}^{1}_0 = \\begin{pmatrix}0.666 & 2.942 & 8.129 & 4.888\\end{pmatrix}\n",
      "\\vec{s}^{2}_0 = \\begin{pmatrix}1.590 & 3.965 & 8.940 & 2.725\\end{pmatrix}\n",
      "\\vec{s}^{3}_0 = \\begin{pmatrix}2.912 & 2.706 & 2.016 & 1.473\\end{pmatrix}\n"
     ]
    }
   ],
   "source": [
    "for j, x in enumerate(xs):\n",
    "    print(f\"\\\\vec{{s}}^{{{(j+1)}}}_0 = \\\\begin{{pmatrix}}\", end=\"\")\n",
    "    for k, i in enumerate(x):\n",
    "        print(f\"{i:.3f}\", end=\"\")\n",
    "        if k != len(x)-1:\n",
    "            print(\" & \", end=\"\")\n",
    "    print(\"\\\\end{pmatrix}\", end=\"\")\n",
    "    print(\"\")"
   ]
  },
  {
   "cell_type": "code",
   "execution_count": 59,
   "id": "fa8bebdf",
   "metadata": {},
   "outputs": [
    {
     "data": {
      "text/plain": [
       "[8.728207644490762, 6.44260224770719, 0.019249604764674508]"
      ]
     },
     "execution_count": 59,
     "metadata": {},
     "output_type": "execute_result"
    }
   ],
   "source": [
    "hc_costs"
   ]
  },
  {
   "cell_type": "code",
   "execution_count": 60,
   "id": "46051de1",
   "metadata": {},
   "outputs": [
    {
     "name": "stdout",
     "output_type": "stream",
     "text": [
      "8.728\n",
      "6.443\n",
      "0.019\n"
     ]
    }
   ],
   "source": [
    "for cost in hc_costs:\n",
    "    print(f\"{cost:.3f}\")"
   ]
  },
  {
   "cell_type": "code",
   "execution_count": 61,
   "id": "10aec6fe",
   "metadata": {},
   "outputs": [],
   "source": [
    "def vary_rv(rvs, n_sim=50, T_start=200, T_steps=2000):\n",
    "    manager = mp.Manager()\n",
    "    costs = manager.list()\n",
    "    states = manager.list()\n",
    "\n",
    "    work_queue = mp.Queue()\n",
    "    for i, rv in enumerate(rvs):\n",
    "        costs.append(manager.list())\n",
    "        states.append(manager.list())\n",
    "        for _ in range(n_sim):\n",
    "            work_queue.put((i, rv))\n",
    "\n",
    "    processes = []\n",
    "\n",
    "    for i in range(mp.cpu_count()):\n",
    "        p = mp.Process(target=vary_rv_worker, args=(\n",
    "            work_queue, costs, states, T_start, T_steps, t, y\n",
    "        ))\n",
    "        p.daemon = True\n",
    "        p.start()\n",
    "        processes.append(p)\n",
    "\n",
    "    for p in processes:\n",
    "        p.join()\n",
    "\n",
    "    return [list(t) for t in costs], [list(t) for t in states]"
   ]
  },
  {
   "cell_type": "code",
   "execution_count": 74,
   "id": "77bfc3a6",
   "metadata": {},
   "outputs": [
    {
     "name": "stderr",
     "output_type": "stream",
     "text": [
      "/home/soud/.local/lib/python3.8/site-packages/scipy/integrate/odepack.py:247: ODEintWarning: Excess work done on this call (perhaps wrong Dfun type). Run with full_output = 1 to get quantitative information.\n",
      "  warnings.warn(warning_msg, ODEintWarning)\n",
      "/home/soud/.local/lib/python3.8/site-packages/scipy/integrate/odepack.py:247: ODEintWarning: Excess work done on this call (perhaps wrong Dfun type). Run with full_output = 1 to get quantitative information.\n",
      "  warnings.warn(warning_msg, ODEintWarning)\n",
      "/home/soud/.local/lib/python3.8/site-packages/scipy/integrate/odepack.py:247: ODEintWarning: Excess work done on this call (perhaps wrong Dfun type). Run with full_output = 1 to get quantitative information.\n",
      "  warnings.warn(warning_msg, ODEintWarning)\n",
      "/home/soud/.local/lib/python3.8/site-packages/scipy/integrate/odepack.py:247: ODEintWarning: Excess work done on this call (perhaps wrong Dfun type). Run with full_output = 1 to get quantitative information.\n",
      "  warnings.warn(warning_msg, ODEintWarning)\n"
     ]
    },
    {
     "name": "stdout",
     "output_type": "stream",
     "text": [
      "CPU times: user 272 ms, sys: 115 ms, total: 387 ms\n",
      "Wall time: 49min 24s\n"
     ]
    }
   ],
   "source": [
    "%%time\n",
    "\n",
    "if False:\n",
    "    shelf = shelve.open(\"Arrays/sa_costs\")\n",
    "    np.random.seed(0o37663)\n",
    "    sa_costs, sa_states = vary_rv(xs, n_sim=500, T_start=200, T_steps=2000)\n",
    "    shelf[\"sa_costs\"] = sa_costs\n",
    "    shelf[\"sa_states\"] = sa_states\n",
    "    shelf.close()"
   ]
  },
  {
   "cell_type": "code",
   "execution_count": 75,
   "id": "b70086a9",
   "metadata": {},
   "outputs": [],
   "source": [
    "shelf = shelve.open(\"Arrays/sa_costs\")\n",
    "sa_costs = np.array(shelf[\"sa_costs\"])\n",
    "sa_states = np.array(shelf[\"sa_states\"])\n",
    "shelf.close() "
   ]
  },
  {
   "cell_type": "code",
   "execution_count": 76,
   "id": "4af1c1c2",
   "metadata": {},
   "outputs": [
    {
     "name": "stdout",
     "output_type": "stream",
     "text": [
      "[3.37286671 3.28903312 1.55793182]\n",
      "[0.77401884 0.39131021 0.13686531]\n",
      "[0.02416202 0.02590782 0.02934549]\n",
      "[8.2449789  8.24503211 8.36899454]\n"
     ]
    }
   ],
   "source": [
    "print(np.mean(sa_costs, axis=1))\n",
    "print(np.median(sa_costs, axis=1))\n",
    "print(np.min(sa_costs, axis=1))\n",
    "print(np.max(sa_costs, axis=1))"
   ]
  },
  {
   "cell_type": "code",
   "execution_count": 77,
   "id": "ba504d06",
   "metadata": {},
   "outputs": [
    {
     "name": "stdout",
     "output_type": "stream",
     "text": [
      "[0.6002226371456683, 0.6074107240960922, 0.4785098358451436]\n"
     ]
    }
   ],
   "source": [
    "print([sp_confidence_interval(samples) for samples in sa_costs])"
   ]
  },
  {
   "cell_type": "code",
   "execution_count": 78,
   "id": "a40431f2",
   "metadata": {},
   "outputs": [],
   "source": [
    "values_sa = np.array(sa_costs.flatten())\n",
    "values_hc = np.array(hc_costs)\n",
    "data_sa = np.array([np.repeat(\"SA\", len(values_sa)), values_sa])\n",
    "data_hc = np.array([np.repeat(\"Nelder-Mead\", len(values_hc)), values_hc])\n",
    "Data = np.concatenate([data_sa], axis = 1)\n",
    "\n",
    "df = pd.DataFrame(Data.T, columns = [\"Optimizer\", \"MSE\"])\n",
    "df = df.astype({\"MSE\": float})"
   ]
  },
  {
   "cell_type": "code",
   "execution_count": 99,
   "id": "f6917567",
   "metadata": {},
   "outputs": [
    {
     "data": {
      "image/png": "[encoded data removed]",
      "text/plain": [
       "<Figure size 1620x720 with 1 Axes>"
      ]
     },
     "metadata": {
      "needs_background": "light"
     },
     "output_type": "display_data"
    }
   ],
   "source": [
    "plt.figure(figsize=(9, 4))\n",
    "g = sns.histplot(data=df, hue=\"Optimizer\", x=\"MSE\", alpha=1, bins=100)\n",
    "plt.legend([],[], frameon=False)\n",
    "plt.ylabel(\"Frequency\")\n",
    "plt.savefig(\"figures/mse_freq_sa.pdf\", bbox_inches=\"tight\")\n",
    "plt.show()"
   ]
  }
 ],
 "metadata": {
  "kernelspec": {
   "display_name": "Python 3 (ipykernel)",
   "language": "python",
   "name": "python3"
  },
  "language_info": {
   "codemirror_mode": {
    "name": "ipython",
    "version": 3
   },
   "file_extension": ".py",
   "mimetype": "text/x-python",
   "name": "python",
   "nbconvert_exporter": "python",
   "pygments_lexer": "ipython3",
   "version": "3.8.10"
  }
 },
 "nbformat": 4,
 "nbformat_minor": 5
}

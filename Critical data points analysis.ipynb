{
 "cells": [
  {
   "cell_type": "code",
   "execution_count": 52,
   "id": "3be50a60",
   "metadata": {},
   "outputs": [],
   "source": [
    "from helper import get_predator_prey_data, mse_trunc, \\\n",
    "    remove_single_data_point, int_cost_lotka_volterra\n",
    "from workers import vary_truncation_worker\n",
    "import shelve\n",
    "import multiprocessing as mp\n",
    "import numpy as np\n",
    "from scipy import stats\n",
    "import matplotlib.pyplot as plt\n",
    "import matplotlib as mpl"
   ]
  },
  {
   "cell_type": "code",
   "execution_count": 53,
   "id": "23e349e8",
   "metadata": {},
   "outputs": [],
   "source": [
    "mpl.rcParams[\"figure.dpi\"] = 180\n",
    "mpl.rcParams[\"legend.fontsize\"] = 11\n",
    "plt.rc(\"text\", usetex=True)\n",
    "plt.rc(\"text.latex\", preamble=r\"\"\"\n",
    "\\usepackage{palatino}\n",
    "\\usepackage{newpxmath}\"\"\")\n",
    "plt.rc(\"font\", family=\"serif\")"
   ]
  },
  {
   "cell_type": "code",
   "execution_count": 40,
   "id": "1ac67b5c",
   "metadata": {},
   "outputs": [],
   "source": [
    "def get_n_removed_points(d):\n",
    "    return len(np.argwhere(d.flatten() == -1))\n",
    "\n",
    "def sp_confidence_interval(samples, p=0.95):\n",
    "    \"\"\" Calculates the confidence interval (with p=95% unless noted otherwise) \n",
    "    Returns:\n",
    "         Confidence radius (int) based on samples.     \n",
    "    \"\"\"\n",
    "    a = stats.t.interval(p, df=len(samples)-1, loc=np.mean(samples), scale=stats.sem(samples))\n",
    "    return a[1] - a[0]\n",
    "\n",
    "def generate_truncated_datasets(P, col):\n",
    "    Ps = [P]\n",
    "    for i in range(len(P)):\n",
    "        p = remove_single_data_point(P.copy(), i, col=col)\n",
    "        Ps.append(p)\n",
    "    return Ps"
   ]
  },
  {
   "cell_type": "code",
   "execution_count": 33,
   "id": "a6f1d3fb",
   "metadata": {},
   "outputs": [],
   "source": [
    "def vary_truncation(trunc_datasets, P, t, rv, n_sim=100, T_start=200, T_steps=2000):\n",
    "    manager = mp.Manager()\n",
    "    results = manager.list()\n",
    "\n",
    "    work_queue = mp.Queue()\n",
    "    for i in range(len(trunc_datasets)):\n",
    "        results.append(manager.list())\n",
    "        for j in range(n_sim):\n",
    "            work_queue.put((i, j))\n",
    "\n",
    "    processes = []\n",
    "\n",
    "    for i in range(mp.cpu_count()):\n",
    "        p = mp.Process(target=vary_truncation_worker, args=(\n",
    "            work_queue, results, T_start, T_steps, P, t, rv, trunc_datasets\n",
    "        ))\n",
    "        p.daemon = True\n",
    "        p.start()\n",
    "        processes.append(p)\n",
    "\n",
    "    for p in processes:\n",
    "        p.join()\n",
    "\n",
    "    return [list(t) for t in results], trunc_datasets"
   ]
  },
  {
   "cell_type": "code",
   "execution_count": null,
   "id": "b9c0b118",
   "metadata": {},
   "outputs": [
    {
     "name": "stdout",
     "output_type": "stream",
     "text": [
      "[0, 1, 1, 1, 1, 1, 1, 1, 1, 1, 1]\n"
     ]
    }
   ],
   "source": [
    "%%time\n",
    "if True:\n",
    "    with shelve.open(\"Arrays/single_data_removal\") as shelf:\n",
    "        n_sim = 100\n",
    "\n",
    "        t, P = get_predator_prey_data()\n",
    "\n",
    "        np.random.seed(23932)\n",
    "        \n",
    "        # truncate x timeseries\n",
    "        trunc_datasets_x = generate_truncated_datasets(P, 0)[:11]\n",
    "        print([get_n_removed_points(p) for p in trunc_datasets_x])\n",
    "        rv = [1, 1, 0.2, 1]\n",
    "\n",
    "        costs_x, datasets_x = vary_truncation(trunc_datasets_x, P, t, rv, n_sim=n_sim)\n",
    "        shelf[\"data_removal_costs_x\"] = costs_x\n",
    "        shelf[\"datasets_x\"] = datasets_x\n",
    "\n",
    "        # truncate y timeseries\n",
    "        trunc_datasets_y = generate_truncated_datasets(P, 1)[:11]\n",
    "        print([get_n_removed_points(p) for p in trunc_datasets_y])\n",
    "\n",
    "        costs_y, datasets_y = vary_truncation(trunc_datasets_y, P, t, rv, n_sim=n_sim)\n",
    "        shelf[\"data_removal_costs_y\"] = costs_y\n",
    "        shelf[\"datasets_y\"] = datasets_y\n",
    "\n",
    "        shelf.close()"
   ]
  },
  {
   "cell_type": "code",
   "execution_count": 47,
   "id": "0ab0f9aa",
   "metadata": {},
   "outputs": [],
   "source": [
    "a = [sp_confidence_interval(samples) for samples in costs_y]\n",
    "means = np.mean(costs_y, axis=1)"
   ]
  },
  {
   "cell_type": "code",
   "execution_count": 54,
   "id": "e497948b",
   "metadata": {},
   "outputs": [
    {
     "data": {
      "text/plain": [
       "<BarContainer object of 21 artists>"
      ]
     },
     "execution_count": 54,
     "metadata": {},
     "output_type": "execute_result"
    },
    {
     "data": {
      "image/png": "[encoded data removed]",
      "text/plain": [
       "<Figure size 1080x720 with 1 Axes>"
      ]
     },
     "metadata": {
      "needs_background": "light"
     },
     "output_type": "display_data"
    }
   ],
   "source": [
    "plt.bar(range(0, 21), means, yerr=a)"
   ]
  }
 ],
 "metadata": {
  "kernelspec": {
   "display_name": "Python 3 (ipykernel)",
   "language": "python",
   "name": "python3"
  },
  "language_info": {
   "codemirror_mode": {
    "name": "ipython",
    "version": 3
   },
   "file_extension": ".py",
   "mimetype": "text/x-python",
   "name": "python",
   "nbconvert_exporter": "python",
   "pygments_lexer": "ipython3",
   "version": "3.8.10"
  }
 },
 "nbformat": 4,
 "nbformat_minor": 5
}

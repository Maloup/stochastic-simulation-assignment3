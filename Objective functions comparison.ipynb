{
 "cells": [
  {
   "cell_type": "code",
   "execution_count": 1,
   "id": "91541c7d",
   "metadata": {},
   "outputs": [],
   "source": [
    "from optimization_func import simulated_annealing\n",
    "from helper import mse, mae, r2, lotka_volterra, int_cost_lotka_volterra, get_predator_prey_data\n",
    "t, P = get_predator_prey_data()\n",
    "import shelve\n",
    "import matplotlib.pyplot as plt\n",
    "import matplotlib as mpl\n",
    "import numpy as np\n",
    "from scipy import stats\n"
   ]
  },
  {
   "cell_type": "code",
   "execution_count": 2,
   "id": "7e89aba0",
   "metadata": {},
   "outputs": [],
   "source": [
    "mpl.rcParams[\"figure.dpi\"] = 180\n",
    "mpl.rcParams[\"legend.fontsize\"] = 11\n",
    "plt.rc(\"text\", usetex=True)\n",
    "plt.rc(\"text.latex\", preamble=r\"\"\"\n",
    "\\usepackage{palatino}\n",
    "\\usepackage{newpxmath}\"\"\")\n",
    "plt.rc(\"font\", family=\"serif\")"
   ]
  },
  {
   "cell_type": "code",
   "execution_count": 3,
   "id": "85b8f8b2",
   "metadata": {},
   "outputs": [],
   "source": [
    "def sp_confidence_interval(samples, p=0.95):\n",
    "    \"\"\" Calculates the confidence interval (with p=95% unless noted otherwise) \n",
    "    Returns:\n",
    "         Confidence radius (int) based on samples.     \n",
    "    \"\"\"\n",
    "    a = stats.t.interval(p, df=len(samples)-1, loc=np.mean(samples), scale=stats.sem(samples))\n",
    "    return a[1] - a[0]"
   ]
  },
  {
   "cell_type": "code",
   "execution_count": 8,
   "id": "d3c7557d",
   "metadata": {},
   "outputs": [],
   "source": [
    "def Convergence_data(rvs, cost, n_sim=100, gamma = ?):\n",
    "    Dict = {}\n",
    "    for rv in rvs:\n",
    "        sim_data = []\n",
    "        r2s = []\n",
    "        for n in range(n_sim):\n",
    "            state, _, _, costs = simulated_annealing(rv, t, P, cost=cost, cooling_schedule=\"quadratic\", T_start=200, T_steps=2000, write_costs = True, gamma = gamma)\n",
    "            sim_data.append(costs)\n",
    "            r2_value = int_cost_lotka_volterra(state, P, t, cost=r2)\n",
    "            r2s.append(r2_value)\n",
    "        Dict[str(rv)] = (sim_data, r2s)\n",
    "    \n",
    "    return Dict           \n",
    "    \n",
    "    "
   ]
  },
  {
   "cell_type": "code",
   "execution_count": 9,
   "id": "c98133d3",
   "metadata": {},
   "outputs": [],
   "source": [
    "xs = [[0.66593614, 2.94213991, 8.129154  , 4.88824876],\n",
    "       [3.13320535, 0.61170786, 1.20556467, 8.54715741],\n",
    "       [1.59035578, 3.964897  , 8.93986609, 2.72514184],\n",
    "       [4.73006778, 6.44811731, 5.9776969 , 7.29995916],\n",
    "       [1.72004538, 8.47855451, 1.16241656, 0.58402861],\n",
    "       [5.14251217, 2.59650137, 3.03574317, 7.63356504],\n",
    "       [6.07600054, 4.30131415, 4.60656356, 3.67890247],\n",
    "       [3.87088546, 7.40314946, 9.84267204, 5.05488566],\n",
    "       [5.49825296, 0.65119381, 7.9734132 , 9.63343394],\n",
    "       [7.26991767, 9.8089839 , 8.61680355, 3.66975829]]\n",
    "\n",
    "xs2 = [[1000, 50, 30, 1]]\n",
    "\n"
   ]
  },
  {
   "cell_type": "code",
   "execution_count": 10,
   "id": "4a05a656",
   "metadata": {},
   "outputs": [
    {
     "name": "stderr",
     "output_type": "stream",
     "text": [
      "C:\\Users\\malou\\Anaconda3\\lib\\site-packages\\scipy\\integrate\\odepack.py:247: ODEintWarning: Excess work done on this call (perhaps wrong Dfun type). Run with full_output = 1 to get quantitative information.\n",
      "  warnings.warn(warning_msg, ODEintWarning)\n",
      "C:\\Users\\malou\\Anaconda3\\lib\\site-packages\\scipy\\integrate\\odepack.py:247: ODEintWarning: Excess work done on this call (perhaps wrong Dfun type). Run with full_output = 1 to get quantitative information.\n",
      "  warnings.warn(warning_msg, ODEintWarning)\n",
      "C:\\Users\\malou\\Anaconda3\\lib\\site-packages\\scipy\\integrate\\odepack.py:247: ODEintWarning: Excess work done on this call (perhaps wrong Dfun type). Run with full_output = 1 to get quantitative information.\n",
      "  warnings.warn(warning_msg, ODEintWarning)\n",
      "C:\\Users\\malou\\Anaconda3\\lib\\site-packages\\scipy\\integrate\\odepack.py:247: ODEintWarning: Excess work done on this call (perhaps wrong Dfun type). Run with full_output = 1 to get quantitative information.\n",
      "  warnings.warn(warning_msg, ODEintWarning)\n",
      "C:\\Users\\malou\\Anaconda3\\lib\\site-packages\\scipy\\integrate\\odepack.py:247: ODEintWarning: Excess work done on this call (perhaps wrong Dfun type). Run with full_output = 1 to get quantitative information.\n",
      "  warnings.warn(warning_msg, ODEintWarning)\n",
      "C:\\Users\\malou\\Anaconda3\\lib\\site-packages\\scipy\\integrate\\odepack.py:247: ODEintWarning: Excess work done on this call (perhaps wrong Dfun type). Run with full_output = 1 to get quantitative information.\n",
      "  warnings.warn(warning_msg, ODEintWarning)\n",
      "C:\\Users\\malou\\Anaconda3\\lib\\site-packages\\scipy\\integrate\\odepack.py:247: ODEintWarning: Excess work done on this call (perhaps wrong Dfun type). Run with full_output = 1 to get quantitative information.\n",
      "  warnings.warn(warning_msg, ODEintWarning)\n",
      "C:\\Users\\malou\\Anaconda3\\lib\\site-packages\\scipy\\integrate\\odepack.py:247: ODEintWarning: Excess work done on this call (perhaps wrong Dfun type). Run with full_output = 1 to get quantitative information.\n",
      "  warnings.warn(warning_msg, ODEintWarning)\n"
     ]
    },
    {
     "name": "stdout",
     "output_type": "stream",
     "text": [
      "Wall time: 2min 12s\n"
     ]
    }
   ],
   "source": [
    "%%time\n",
    "np.random.seed(567567)\n",
    "if False: \n",
    "    shelf = shelve.open(\"Arrays/MSE_vs_MAE\")\n",
    "    Test_mse = Convergence_data(rvs=xs[0:2], cost=mse, n_sim=3)\n",
    "    shelf[\"Test_mse\"] = Test_mse\n",
    "    Test_mae = Convergence_data(rvs=xs[0:2], cost=mae, n_sim=3)\n",
    "    shelf[\"Test_mae\"] = Test_mae\n",
    "shelf.close() "
   ]
  },
  {
   "cell_type": "code",
   "execution_count": 11,
   "id": "c6a276dd",
   "metadata": {},
   "outputs": [
    {
     "name": "stdout",
     "output_type": "stream",
     "text": [
      "run  1\n",
      "0.11705196219897132\n",
      "0.15721778296361313\n",
      "5.895369845548445\n",
      "7.994762717411582\n",
      "5.899227223785397\n",
      "0.10694290387391384\n",
      "0.0740823219706136\n",
      "0.24005691068457988\n",
      "0.039073895252362136\n",
      "0.06686137801580821\n",
      "run  2\n",
      "0.12274024343353618\n",
      "0.03840839686968239\n",
      "8.24485339725429\n",
      "0.1758817321741763\n",
      "5.898994599415021\n",
      "0.08951896184823209\n",
      "8.279241836657445\n",
      "0.07203979040103733\n",
      "8.250162444455809\n",
      "0.47010737390418933\n"
     ]
    }
   ],
   "source": [
    "def Convergence_plotter(rvs, Test_mse, Test_mae, T_steps=2000):\n",
    "    iterations = range(1,T_steps + 1)\n",
    "    for data in  [Test_mse, Test_mae]:\n",
    "        for rv in rvs:\n",
    "            data[str(rv)] = results\n",
    "            np.mean(results, axis = 1)\n",
    "            a = [sp_confidence_interval(samples) for samples in np.array(results)]\n",
    "            plt.plot(iterations, mean, 'o', markersize = 2, linewidth=1, color = colors[i])\n",
    "            plt.errorbar(iterations, mean, yerr=a, color = colors[i], capsize = 1, elinewidth=0.5, markeredgewidth=1)\n",
    "            \n",
    "    plt.grid(alpha=0.3)\n",
    "    plt.ylabel(\"MSE\")\n",
    "    plt.xlabel(\"Point in Markov Chain ($k_i$)\")\n",
    "    #plt.legend([\"A\", ])\n",
    "    plt.show()         \n",
    "    \n",
    "        "
   ]
  },
  {
   "cell_type": "code",
   "execution_count": 35,
   "id": "59c5e8a2",
   "metadata": {},
   "outputs": [
    {
     "name": "stdout",
     "output_type": "stream",
     "text": [
      "8.244732441935538\n"
     ]
    }
   ],
   "source": []
  },
  {
   "cell_type": "code",
   "execution_count": null,
   "id": "7577c31a",
   "metadata": {},
   "outputs": [],
   "source": []
  }
 ],
 "metadata": {
  "kernelspec": {
   "display_name": "Python 3 (ipykernel)",
   "language": "python",
   "name": "python3"
  },
  "language_info": {
   "codemirror_mode": {
    "name": "ipython",
    "version": 3
   },
   "file_extension": ".py",
   "mimetype": "text/x-python",
   "name": "python",
   "nbconvert_exporter": "python",
   "pygments_lexer": "ipython3",
   "version": "3.8.12"
  }
 },
 "nbformat": 4,
 "nbformat_minor": 5
}

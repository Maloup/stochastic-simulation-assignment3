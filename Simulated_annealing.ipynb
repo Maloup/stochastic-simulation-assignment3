{
 "cells": [
  {
   "cell_type": "code",
   "execution_count": 26,
   "metadata": {},
   "outputs": [],
   "source": [
    "from sklearn.metrics import mean_squared_error as MSE\n",
    "import numpy as np\n",
    "import matplotlib.pyplot as plt"
   ]
  },
  {
   "cell_type": "code",
   "execution_count": 95,
   "metadata": {},
   "outputs": [],
   "source": [
    "def f(state, t):\n",
    "    alpha, beta = state\n",
    "    return alpha*(t**2) + beta\n",
    "    \n",
    "#True data\n",
    "t_range = np.linspace(0,10, 20)\n",
    "True_data = f((3, 20), t_range)\n"
   ]
  },
  {
   "cell_type": "code",
   "execution_count": 124,
   "metadata": {},
   "outputs": [
    {
     "data": {
      "text/plain": [
       "(array([10.50274983, 50.7371098 ,  3.25219935,  4.00280402]),)"
      ]
     },
     "execution_count": 124,
     "metadata": {},
     "output_type": "execute_result"
    }
   ],
   "source": [
    "np.random.normal([10,50,4,2]),"
   ]
  },
  {
   "cell_type": "code",
   "execution_count": 125,
   "metadata": {},
   "outputs": [],
   "source": [
    "\n",
    "\n",
    "def Simulated_Annealing(s0, Cooling_schedule = \"linear\", function = MSE, T_start = 100, sigma = 0.1, data = (t_range, True_data)):\n",
    "    if Cooling_schedule == \"linear\":\n",
    "        T_sched = np.linspace(100, 0.1, 5000)\n",
    "    state = s0\n",
    "    pred = f(state, data[0])\n",
    "\n",
    "    for T in T_sched:\n",
    "        state_new = np.random.normal(state, scale = sigma)\n",
    "        U = np.random.rand()\n",
    "\n",
    "        pred_new = f(state_new, data[0])\n",
    "\n",
    "        threshold = np.min(np.exp(-(function(data[1], pred_new) - function(data[1], pred))/T))\n",
    "        if U <= threshold:\n",
    "            state = state_new\n",
    "            pred = pred_new \n",
    "        else: \n",
    "            state = state\n",
    "    \n",
    "    return state\n",
    "\n",
    "    \n",
    "#This function can be deleted perhaps later\n",
    "def Simulated_Annealing_2(s0, Cooling_schedule = \"linear\", function = MSE, T_start = 100, sigma = 0.1, data = (t_range, True_data)):\n",
    "    if Cooling_schedule == \"linear\":\n",
    "        T_sched = np.linspace(100, 0.1, 5000)\n",
    "    state = s0\n",
    "    pred = f(state, data[0])\n",
    "\n",
    "    for T in T_sched:\n",
    "        \n",
    "        #loop over parameters\n",
    "        for i in range(len(state)): \n",
    "            state_new = state\n",
    "            state_new[i] = np.random.normal(state[i], scale = sigma)\n",
    "            U = np.random.rand()\n",
    "\n",
    "            pred_new = f(state_new, data[0])\n",
    "\n",
    "            threshold = np.min(np.exp(-(function(data[1], pred_new) - function(data[1], pred))/T))\n",
    "            if U <= threshold:\n",
    "                state = state_new\n",
    "                pred = pred_new \n",
    "            else: \n",
    "                state = state\n",
    "    \n",
    "    return state"
   ]
  },
  {
   "cell_type": "code",
   "execution_count": 120,
   "metadata": {},
   "outputs": [],
   "source": [
    "#np.random.seed(123213)\n",
    "state_pred = Simulated_Annealing([5, 18])\n",
    "state_pred_2 = Simulated_Annealing_2([5, 18])\n"
   ]
  },
  {
   "cell_type": "code",
   "execution_count": 121,
   "metadata": {},
   "outputs": [
    {
     "name": "stdout",
     "output_type": "stream",
     "text": [
      "(2.9094779577581575, 26.671918855632267)\n",
      "[8.593811724557494, 14.46927645469862]\n"
     ]
    }
   ],
   "source": [
    "print(state_pred)\n",
    "print(state_pred_2)"
   ]
  },
  {
   "cell_type": "code",
   "execution_count": 98,
   "metadata": {},
   "outputs": [
    {
     "data": {
      "image/png": "[encoded data removed]",
      "text/plain": [
       "<Figure size 432x288 with 1 Axes>"
      ]
     },
     "metadata": {
      "needs_background": "light"
     },
     "output_type": "display_data"
    }
   ],
   "source": [
    "plt.plot(t_range, True_data)\n",
    "plt.plot(t_range, f(state_pred, t_range))\n",
    "plt.show()"
   ]
  },
  {
   "cell_type": "code",
   "execution_count": null,
   "metadata": {},
   "outputs": [],
   "source": []
  }
 ],
 "metadata": {
  "interpreter": {
   "hash": "9fd2a084ee41392a2c2e6f8fc41057bc9951f5151a060feca4bba01de5a10a89"
  },
  "kernelspec": {
   "display_name": "Python 3.8.12 64-bit ('base': conda)",
   "language": "python",
   "name": "python3"
  },
  "language_info": {
   "codemirror_mode": {
    "name": "ipython",
    "version": 3
   },
   "file_extension": ".py",
   "mimetype": "text/x-python",
   "name": "python",
   "nbconvert_exporter": "python",
   "pygments_lexer": "ipython3",
   "version": "3.8.12"
  },
  "orig_nbformat": 4
 },
 "nbformat": 4,
 "nbformat_minor": 2
}
